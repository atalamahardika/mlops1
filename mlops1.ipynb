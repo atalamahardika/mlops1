{
 "cells": [
  {
   "cell_type": "markdown",
   "id": "978ed579-f292-47c9-8e78-803ff27a6cdc",
   "metadata": {},
   "source": [
    "Machine Learning Operations (MLOps)\n",
    "Athallah Anargya Mahardika (215150201111009)"
   ]
  },
  {
   "cell_type": "code",
   "execution_count": 1,
   "id": "2ef71b4e-9822-488b-a5e2-41e4bb12267f",
   "metadata": {},
   "outputs": [
    {
     "name": "stdout",
     "output_type": "stream",
     "text": [
      "--2024-10-02 06:31:12--  https://gist.githubusercontent.com/netj/8836201/raw/6f9306ad21398ea43cba4f7d537619d0e07d5ae3/iris.csv\n",
      "Resolving gist.githubusercontent.com (gist.githubusercontent.com)... 185.199.108.133, 185.199.109.133, 185.199.110.133, ...\n",
      "Connecting to gist.githubusercontent.com (gist.githubusercontent.com)|185.199.108.133|:443... connected.\n",
      "HTTP request sent, awaiting response... 200 OK\n",
      "Length: 3975 (3.9K) [text/plain]\n",
      "Saving to: ‘iris.csv’\n",
      "\n",
      "iris.csv            100%[===================>]   3.88K  --.-KB/s    in 0s      \n",
      "\n",
      "2024-10-02 06:31:13 (15.6 MB/s) - ‘iris.csv’ saved [3975/3975]\n",
      "\n"
     ]
    }
   ],
   "source": [
    "!wget https://gist.githubusercontent.com/netj/8836201/raw/6f9306ad21398ea43cba4f7d537619d0e07d5ae3/iris.csv"
   ]
  },
  {
   "cell_type": "code",
   "execution_count": 2,
   "id": "7538ce62-f4b3-4897-a979-b5036605428d",
   "metadata": {},
   "outputs": [],
   "source": [
    "import pandas as pd\n",
    "import numpy as np\n",
    "data = pd.read_csv('iris.csv')"
   ]
  },
  {
   "cell_type": "code",
   "execution_count": 3,
   "id": "670969fa-8c4d-4917-b072-1a8c94cc296d",
   "metadata": {},
   "outputs": [
    {
     "data": {
      "text/html": [
       "<div>\n",
       "<style scoped>\n",
       "    .dataframe tbody tr th:only-of-type {\n",
       "        vertical-align: middle;\n",
       "    }\n",
       "\n",
       "    .dataframe tbody tr th {\n",
       "        vertical-align: top;\n",
       "    }\n",
       "\n",
       "    .dataframe thead th {\n",
       "        text-align: right;\n",
       "    }\n",
       "</style>\n",
       "<table border=\"1\" class=\"dataframe\">\n",
       "  <thead>\n",
       "    <tr style=\"text-align: right;\">\n",
       "      <th></th>\n",
       "      <th>sepal.length</th>\n",
       "      <th>sepal.width</th>\n",
       "      <th>petal.length</th>\n",
       "      <th>petal.width</th>\n",
       "      <th>variety</th>\n",
       "    </tr>\n",
       "  </thead>\n",
       "  <tbody>\n",
       "    <tr>\n",
       "      <th>0</th>\n",
       "      <td>5.1</td>\n",
       "      <td>3.5</td>\n",
       "      <td>1.4</td>\n",
       "      <td>0.2</td>\n",
       "      <td>Setosa</td>\n",
       "    </tr>\n",
       "    <tr>\n",
       "      <th>1</th>\n",
       "      <td>4.9</td>\n",
       "      <td>3.0</td>\n",
       "      <td>1.4</td>\n",
       "      <td>0.2</td>\n",
       "      <td>Setosa</td>\n",
       "    </tr>\n",
       "    <tr>\n",
       "      <th>2</th>\n",
       "      <td>4.7</td>\n",
       "      <td>3.2</td>\n",
       "      <td>1.3</td>\n",
       "      <td>0.2</td>\n",
       "      <td>Setosa</td>\n",
       "    </tr>\n",
       "    <tr>\n",
       "      <th>3</th>\n",
       "      <td>4.6</td>\n",
       "      <td>3.1</td>\n",
       "      <td>1.5</td>\n",
       "      <td>0.2</td>\n",
       "      <td>Setosa</td>\n",
       "    </tr>\n",
       "    <tr>\n",
       "      <th>4</th>\n",
       "      <td>5.0</td>\n",
       "      <td>3.6</td>\n",
       "      <td>1.4</td>\n",
       "      <td>0.2</td>\n",
       "      <td>Setosa</td>\n",
       "    </tr>\n",
       "  </tbody>\n",
       "</table>\n",
       "</div>"
      ],
      "text/plain": [
       "   sepal.length  sepal.width  petal.length  petal.width variety\n",
       "0           5.1          3.5           1.4          0.2  Setosa\n",
       "1           4.9          3.0           1.4          0.2  Setosa\n",
       "2           4.7          3.2           1.3          0.2  Setosa\n",
       "3           4.6          3.1           1.5          0.2  Setosa\n",
       "4           5.0          3.6           1.4          0.2  Setosa"
      ]
     },
     "execution_count": 3,
     "metadata": {},
     "output_type": "execute_result"
    }
   ],
   "source": [
    "data.head()"
   ]
  },
  {
   "cell_type": "code",
   "execution_count": 10,
   "id": "29d9a070-ad59-4ecb-a292-5182b1fd1e5a",
   "metadata": {},
   "outputs": [
    {
     "name": "stdout",
     "output_type": "stream",
     "text": [
      "Data Latih : 120\n",
      "Data Uji : 30\n"
     ]
    }
   ],
   "source": [
    "from sklearn.model_selection import train_test_split\n",
    "data_latih, data_uji = train_test_split(data, test_size=0.2)\n",
    "print(\"Data Latih : %d\" % data_latih.shape[0])\n",
    "print(\"Data Uji : %d\" % data_uji.shape[0])"
   ]
  },
  {
   "cell_type": "code",
   "execution_count": 11,
   "id": "9338bc25-eeee-40a3-b2fd-5a7cb220a5d2",
   "metadata": {},
   "outputs": [],
   "source": [
    "label_uji = data_uji.pop('variety')"
   ]
  },
  {
   "cell_type": "code",
   "execution_count": 12,
   "id": "72046c0f-8ece-44c3-b627-e24c17e2edbd",
   "metadata": {},
   "outputs": [
    {
     "data": {
      "text/html": [
       "<div>\n",
       "<style scoped>\n",
       "    .dataframe tbody tr th:only-of-type {\n",
       "        vertical-align: middle;\n",
       "    }\n",
       "\n",
       "    .dataframe tbody tr th {\n",
       "        vertical-align: top;\n",
       "    }\n",
       "\n",
       "    .dataframe thead th {\n",
       "        text-align: right;\n",
       "    }\n",
       "</style>\n",
       "<table border=\"1\" class=\"dataframe\">\n",
       "  <thead>\n",
       "    <tr style=\"text-align: right;\">\n",
       "      <th></th>\n",
       "      <th>sepal.length</th>\n",
       "      <th>sepal.width</th>\n",
       "      <th>petal.length</th>\n",
       "      <th>petal.width</th>\n",
       "    </tr>\n",
       "  </thead>\n",
       "  <tbody>\n",
       "    <tr>\n",
       "      <th>142</th>\n",
       "      <td>5.8</td>\n",
       "      <td>2.7</td>\n",
       "      <td>5.1</td>\n",
       "      <td>1.9</td>\n",
       "    </tr>\n",
       "    <tr>\n",
       "      <th>74</th>\n",
       "      <td>6.4</td>\n",
       "      <td>2.9</td>\n",
       "      <td>4.3</td>\n",
       "      <td>1.3</td>\n",
       "    </tr>\n",
       "    <tr>\n",
       "      <th>110</th>\n",
       "      <td>6.5</td>\n",
       "      <td>3.2</td>\n",
       "      <td>5.1</td>\n",
       "      <td>2.0</td>\n",
       "    </tr>\n",
       "    <tr>\n",
       "      <th>18</th>\n",
       "      <td>5.7</td>\n",
       "      <td>3.8</td>\n",
       "      <td>1.7</td>\n",
       "      <td>0.3</td>\n",
       "    </tr>\n",
       "    <tr>\n",
       "      <th>55</th>\n",
       "      <td>5.7</td>\n",
       "      <td>2.8</td>\n",
       "      <td>4.5</td>\n",
       "      <td>1.3</td>\n",
       "    </tr>\n",
       "  </tbody>\n",
       "</table>\n",
       "</div>"
      ],
      "text/plain": [
       "     sepal.length  sepal.width  petal.length  petal.width\n",
       "142           5.8          2.7           5.1          1.9\n",
       "74            6.4          2.9           4.3          1.3\n",
       "110           6.5          3.2           5.1          2.0\n",
       "18            5.7          3.8           1.7          0.3\n",
       "55            5.7          2.8           4.5          1.3"
      ]
     },
     "execution_count": 12,
     "metadata": {},
     "output_type": "execute_result"
    }
   ],
   "source": [
    "data_uji.head()"
   ]
  },
  {
   "cell_type": "markdown",
   "id": "bd36c9a2-edbb-4584-b98a-f8757b357e4e",
   "metadata": {},
   "source": [
    "Menghitung Prior"
   ]
  },
  {
   "cell_type": "code",
   "execution_count": 13,
   "id": "0af7dd50-5d3a-4046-aa29-77f730b2adf8",
   "metadata": {},
   "outputs": [],
   "source": [
    "from collections import Counter\n",
    "def hitung_prior(list_kelas):\n",
    "  n_data = len(list_kelas)\n",
    "  prior = Counter(list_kelas)\n",
    "  for key in prior.keys():\n",
    "    prior[key] = prior[key]/n_data\n",
    "  return prior"
   ]
  },
  {
   "cell_type": "code",
   "execution_count": 14,
   "id": "34fc6cb1-3701-4b1a-ad93-46a4bdb4c657",
   "metadata": {},
   "outputs": [
    {
     "name": "stdout",
     "output_type": "stream",
     "text": [
      "Counter({'Virginica': 0.35, 'Setosa': 0.3416666666666667, 'Versicolor': 0.30833333333333335})\n"
     ]
    }
   ],
   "source": [
    "prior = hitung_prior(data_latih['variety'])\n",
    "print(prior)"
   ]
  },
  {
   "cell_type": "markdown",
   "id": "526dded1-e020-4a7c-9a8d-04db43d19c88",
   "metadata": {},
   "source": [
    "Menghitung Likelihood"
   ]
  },
  {
   "cell_type": "code",
   "execution_count": 15,
   "id": "0d0965c4-fb28-40a8-b3bf-829a4c17feb7",
   "metadata": {},
   "outputs": [],
   "source": [
    "def hitung_rata2_std_kelas(input_data):\n",
    "  list_columns = input_data.columns[:-1]\n",
    "  class_column_name = data_latih.columns[-1]\n",
    "  list_class = set(input_data[class_column_name])\n",
    "  rata2 = {}\n",
    "  std = {}\n",
    "  for column in list_columns:\n",
    "    for a_class in list_class:\n",
    "      rata2[(a_class, column)] = input_data.loc[input_data[class_column_name]==a_class][column].mean()\n",
    "      std[(a_class, column)] = input_data.loc[input_data[class_column_name]==a_class][column].std()\n",
    "  return(rata2, std)"
   ]
  },
  {
   "cell_type": "code",
   "execution_count": 16,
   "id": "27719f9d-1ffd-4c58-9346-629500648bdb",
   "metadata": {},
   "outputs": [],
   "source": [
    "import math\n",
    "def hitung_likelihood_gaussian(data, rata2, std):\n",
    "  hasil = (1/math.sqrt(2*math.pi*(std**2)))*math.exp((-1*((data-rata2)**2))/(2*(std**2)))\n",
    "  return hasil"
   ]
  },
  {
   "cell_type": "markdown",
   "id": "980ffa64-de09-49bd-95ef-a6814c729e53",
   "metadata": {},
   "source": [
    "Proses Training"
   ]
  },
  {
   "cell_type": "code",
   "execution_count": 17,
   "id": "df4b592b-75a2-4e0d-a093-07256c383606",
   "metadata": {},
   "outputs": [],
   "source": [
    "def training_naive_bayes_gaussian(data_latih):\n",
    "  class_column_name = data_latih.columns[-1]\n",
    "  prior = hitung_prior(data_latih[class_column_name])\n",
    "  (rata2, std) = hitung_rata2_std_kelas(data_latih)\n",
    "  list_class = set(data_latih[class_column_name])\n",
    "  list_columns = data_latih.columns[:-1]\n",
    "  model = {}\n",
    "  model['prior'] = prior\n",
    "  model['rata2'] = rata2\n",
    "  model['std'] = std\n",
    "  model['list_class'] = list_class\n",
    "  model['list_columns'] = list_columns\n",
    "  return model"
   ]
  },
  {
   "cell_type": "code",
   "execution_count": 18,
   "id": "faeaca1f-995c-4f3a-b18e-927e8ef85832",
   "metadata": {},
   "outputs": [
    {
     "name": "stdout",
     "output_type": "stream",
     "text": [
      "{'prior': Counter({'Virginica': 0.35, 'Setosa': 0.3416666666666667, 'Versicolor': 0.30833333333333335}), 'rata2': {('Versicolor', 'sepal.length'): 5.951351351351351, ('Virginica', 'sepal.length'): 6.654761904761905, ('Setosa', 'sepal.length'): 5.014634146341463, ('Versicolor', 'sepal.width'): 2.772972972972973, ('Virginica', 'sepal.width'): 2.9976190476190476, ('Setosa', 'sepal.width'): 3.4146341463414633, ('Versicolor', 'petal.length'): 4.232432432432433, ('Virginica', 'petal.length'): 5.576190476190477, ('Setosa', 'petal.length'): 1.482926829268293, ('Versicolor', 'petal.width'): 1.337837837837838, ('Virginica', 'petal.width'): 2.0380952380952375, ('Setosa', 'petal.width'): 0.25121951219512195}, 'std': {('Versicolor', 'sepal.length'): 0.5178060670976375, ('Virginica', 'sepal.length'): 0.5972303477465409, ('Setosa', 'sepal.length'): 0.3475348727895922, ('Versicolor', 'sepal.width'): 0.34127916940749775, ('Virginica', 'sepal.width'): 0.31116468484028476, ('Setosa', 'sepal.width'): 0.3953232700017519, ('Versicolor', 'petal.length'): 0.4743733024001562, ('Virginica', 'petal.length'): 0.5359329789776565, ('Setosa', 'petal.length'): 0.15953438347953436, ('Versicolor', 'petal.width'): 0.19769695011325814, ('Virginica', 'petal.width'): 0.26955462901896465, ('Setosa', 'petal.width'): 0.10517117290282588}, 'list_class': {'Versicolor', 'Virginica', 'Setosa'}, 'list_columns': Index(['sepal.length', 'sepal.width', 'petal.length', 'petal.width'], dtype='object')}\n"
     ]
    }
   ],
   "source": [
    "model = training_naive_bayes_gaussian(data_latih)\n",
    "print(model)"
   ]
  },
  {
   "cell_type": "markdown",
   "id": "6d5d05ad-20a1-46f6-91c5-dbaf54cbd91b",
   "metadata": {},
   "source": [
    "Proses Testing"
   ]
  },
  {
   "cell_type": "code",
   "execution_count": 19,
   "id": "dc7cd4fb-fd73-40a2-bd56-2fd1fbc7b4c8",
   "metadata": {},
   "outputs": [],
   "source": [
    "def testing_naive_bayes_gaussian(model, data_uji):\n",
    "  prior = model['prior']\n",
    "  rata2 = model['rata2']\n",
    "  std = model['std']\n",
    "  list_class = model['list_class']\n",
    "  list_columns = model['list_columns']\n",
    "  posterior = dict.fromkeys(list_class, 1)\n",
    "  for a_class in list_class:\n",
    "    for column in list_columns:\n",
    "      posterior[a_class] = posterior[a_class]*hitung_likelihood_gaussian(data_uji[column], rata2[(a_class, column)], std[(a_class, column)])\n",
    "      posterior[a_class] = posterior[a_class]*prior[a_class]\n",
    "  kelas_uji = max(posterior, key=posterior.get)\n",
    "  return kelas_uji"
   ]
  },
  {
   "cell_type": "code",
   "execution_count": 20,
   "id": "e0db9e39-f5b0-4991-8148-08ac053b2d69",
   "metadata": {},
   "outputs": [
    {
     "name": "stdout",
     "output_type": "stream",
     "text": [
      "Virginica\n",
      "Virginica\n"
     ]
    }
   ],
   "source": [
    "indeks_uji = 0\n",
    "prediksi = testing_naive_bayes_gaussian(model, data_uji.iloc[indeks_uji])\n",
    "print(prediksi)\n",
    "print(label_uji.iloc[indeks_uji])"
   ]
  },
  {
   "cell_type": "code",
   "execution_count": 21,
   "id": "249e0675-ea2f-4a30-a9da-e027a0f3c304",
   "metadata": {},
   "outputs": [
    {
     "name": "stdout",
     "output_type": "stream",
     "text": [
      "Total prediksi benar:  27\n"
     ]
    }
   ],
   "source": [
    "prediksi_total = []\n",
    "for indeks in range(data_uji.shape[0]):\n",
    "  prediksi_total.append(testing_naive_bayes_gaussian(model, data_uji.iloc[indeks]))\n",
    "print(\"Total prediksi benar: \", sum(prediksi_total == label_uji))"
   ]
  }
 ],
 "metadata": {
  "kernelspec": {
   "display_name": "Python 3 (ipykernel)",
   "language": "python",
   "name": "python3"
  },
  "language_info": {
   "codemirror_mode": {
    "name": "ipython",
    "version": 3
   },
   "file_extension": ".py",
   "mimetype": "text/x-python",
   "name": "python",
   "nbconvert_exporter": "python",
   "pygments_lexer": "ipython3",
   "version": "3.11.6"
  }
 },
 "nbformat": 4,
 "nbformat_minor": 5
}
